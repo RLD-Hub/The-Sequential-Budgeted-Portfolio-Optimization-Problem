{
 "cells": [
  {
   "cell_type": "markdown",
   "metadata": {},
   "source": [
    "# Budgeted portfolio optimization via bayesian optimization"
   ]
  },
  {
   "cell_type": "markdown",
   "metadata": {},
   "source": [
    "## 1. The budgeted portfolio optimization problem"
   ]
  },
  {
   "cell_type": "markdown",
   "metadata": {},
   "source": [
    "### Online social platforms"
   ]
  },
  {
   "cell_type": "markdown",
   "metadata": {},
   "source": [
    "Let us first describe a generic social network platform,\n",
    "such as Facebook, Twitter or Instagram. A set of users generate and share some content, denoted as posts, through the platform. Each user has a list of followers and a list of leaders. A user can simultaneously be follower and/or leader of others. As a follower, he (she) is interested in the content posted\n",
    "by his (her) leaders. With each user a Newsfeed is associated, which is a list of received posts.\n",
    "\n",
    "We consider a constant number $N$ of active users in a specific time window, forming\n",
    "the set $\\mathcal{N}$. Users are labelled by an index $n=1,...,N$. They can be nodes of a friendship graph, which we do not need to know. We denote by $\\lambda^{(n)}$ [posts/time window] the rate with which user $n$ generates new posts, and  we make the assumption that content posted instantaneously appears on the Newsfeeds of his followers and can be further propagated through the social network - depending on the platform. For all users $n \\in \\mathcal{N}$ we suppose that they keep a constant post rate $\\lambda^{(n)}$ during the time-window.\n",
    "\n",
    "At each point in time, a user sees in his (her) Newsfeed posts originated by other users who may or may not be their direct leaders, depending on the type of platform. The number of these viewed posts are called \\textit{impressions} and the \\textit{impression ratio} is the ratio of the impressions originated by some given user over all viewed impressions in a given snapshot. The average ratio over several snapshots is called the \\textit{average impression ratio} in the time window.\n",
    "\n",
    "Let us denote by $p^{(j)}_n$ the average impression ratio of posts that originate from user $n$ in the Newsfeed of user $j$. This quantity $p^{(j)}_n$ is assumed known for the rest of the article and can be measured or estimated in two ways:\n",
    "- Empirically, by taking multiple Newsfeed snapshots in the time window and calculating the average of the ratio of impressions between pairs of users over those time points.\n",
    "- By Markovian analysis. Namely, if we assume complete knowledge of the social graph and user posting activity, the values $p^{(j)}_n$ can be derived using the Markovian diffusion model already introduced.\n",
    "\n",
    "\n",
    "Naturally, the average impression ratios satisfy for each Newsfeed:\n",
    "\\begin{equation}\n",
    "\\sum_{n \\in \\mathcal{N}}  p^{(j)}_n=1, \\ \\forall j \\in \\mathcal{N}.\n",
    "\\end{equation}\n",
    "\n",
    "\n",
    "Our model does not require explicit knowledge of the list of followers and leaders of each user, nor a diffusion process as in the approach by Kempe et al.. However, it does require knowledge over the average impression ratio, that contains all this information resulting from diffusion. Furthermore, we are interested in studying the relative impact between pairs of users and not the absolute impact, since the Walls and Newsfeeds can vary in size between users.\n",
    "\n",
    "Observe that similarly we can define the average engagement ratio $q^{(j)}_n$ of posts that originate from user $n$ in the Wall of user $j$. Note that the average engagement ratio can be computed similarly as the average impression ratio, and it has analogous properties as the average impression ratio.\n",
    "\n",
    "Note here that in Instagram and other OSPs, due to the lack of a re-posting option the propagation of information is only given to the immediate followers of a user, thus hindering post-propagation. These networks are simpler to describe; the user sets form a bipartite graph (leaders/followers)."
   ]
  },
  {
   "cell_type": "markdown",
   "metadata": {},
   "source": [
    "### The budgeted portfolio optimization problem"
   ]
  },
  {
   "cell_type": "markdown",
   "metadata": {},
   "source": [
    "In the budgeted portfolio optimization problem an advertiser $i \\in \\mathcal{N}$ with a certain monetary budget $B$ [EUR/time window] in his (her) disposal orchestrates an advertising campaign in a unit of time (equal to the time window) by investing on a bucket of other users $\\mathcal{I} \\subset \\mathcal{N}$ to create posts in his (her) favour. The aim is to maximize the expected value of the return-of-investment $U$ after of a unit of time.\n",
    "\n",
    "We suppose that for each user $n \\in \\mathcal{I}$ there is a known associated cost per post $c_n$ [EUR/post] so that the user $n$ will be willing to create posts in favor of the advertiser $i$.\n",
    "\n",
    "In order to formulate this optimization problem, we need to quantify the participation of each user $n$ in the campaign of the advertiser $i$. Hence, we define for each user $n \\in \\mathcal{I}$, the *unknown participation ratio* $a_n \\in [0,1]$ in the campaign as the unknown proportion of user $n$'s generated posts acquired by the advertiser $i$ in the unit of time. Then, $a_n \\lambda_n$ [posts/time window] represents respectively the number of posts that the user $n \\in \\mathcal{I}$ creates in favor of the advertiser $i,$.\n",
    "\n",
    "The budget invested to user $n \\in \\mathcal{I}$ by the advertiser is $ B_n(a_n) = c_n a_n \\lambda ^ {(n)}$ [EUR/time window]. Given that the total budget of the advertiser $i$ is $B$ [EUR/time window], the constraints in our Budgeted Portfolio Optimization (BPO) problem will be naturally a budget restriction $\\sum_{n \\in \\mathcal{I}} B_n(a_n) \\leq B$ and the continuous unknown variables $a_n \\in [0,1]$. Altogether, we have:\n",
    "\\begin{align*}\n",
    "\\label{[BPO]}\n",
    "\\textrm{max}_{\\{a_n \\}_{n \\in \\mathcal{I}}} \\quad & U(\\mathbf{a}):=U(\\{a_n \\}_{n \\in \\mathcal{I}}),\\\\\n",
    "\\textrm{ s.t.} \\quad & \\sum_{n \\in \\mathcal{I} }  c_n a_n \\lambda ^ {(n)} \\leq B,\\tag*{[BPO]}\\\\\n",
    "& 0 \\leq a_n \\leq 1,  \\forall n \\in \\mathcal{I}.\n",
    "\\end{align*}"
   ]
  },
  {
   "cell_type": "markdown",
   "metadata": {},
   "source": [
    "### Bayesian optimization approach"
   ]
  },
  {
   "cell_type": "markdown",
   "metadata": {},
   "source": [
    "The impact metric $U$, which represents the expected value of the return-of-investment has typically the following properties:\n",
    "\n",
    "- It is 'expensive' to evaluate, namely the number of evaluations that may be performed is limited to $T,$\n",
    "- $U$ is typically continuous or with discontinuities in a set of the Lebesgue measure $0,$ \n",
    "- When $U$ is evaluated we do not observe first or second order derivatives, but one possibly noise observation $\\hat{U},$\n",
    "\n",
    "\n",
    "The company is in capacity to do changes to the distribution of the post acquired for each user in $\\mathcal{I}$ during the time window, however we can do at most $T$ possible noisy evaluations of the impact metric $\\hat{U}$. Since that we have a lack of knowledge about first or second order derivatives of $U,$ it is not possible to leverage on techniques based based on first or second order derivatives or convex optimization. For these reason, the budgeted portfolio optimization problem is a challenge.\n",
    "\n",
    "A bayesian optimization approach for the budgeted portfolio optimization problem allows us to have some natural advantages as:\n",
    "\n",
    "- **Quick convergence:** BO converges to a near optimal configuration in few iterations,\n",
    "- **Safe exploration:** BO avoids sudden drops in the experienced system performance since it searches across “safe” configuration parameter regions,\n",
    "- **Risk-vs.-return for untested configurations:** BO is able to quantify the risk-vs.-return trade-off related to choosing any advertising campaign,\n",
    "\n",
    "\n",
    "As is expected this approach has disadvantages as:\n",
    "\n",
    "- **Generally useless for high dimensions $|\\mathcal{I}|>20$:** Require too much compute, become useless to optimize beyond a few variables.\n",
    "- **Inefficient for large hyper-parameter of search:** Bayesian optimization is efficient in tuning few hyper-parameters but its efficiency degrades a lot when the search dimension increases too much, up to a point where it is on par with random search.\n",
    "- **Not allow parallelisms:** One major drawback is that this algorithm in its naive form is not parallel, in contrast to random or grid searches,"
   ]
  },
  {
   "cell_type": "markdown",
   "metadata": {},
   "source": [
    "### The sequential budgeted portfolio optimization problem"
   ]
  },
  {
   "cell_type": "markdown",
   "metadata": {},
   "source": [
    "In the sequential budgeted portfolio optimization problem an advertiser $i \\in \\mathcal{N}$ orchestrates sequentially a horizon of $M$ decision steps of the advertising campaign each with a certain monetary budget $B$ [EUR/time window], by investing on a bucket of other users $\\mathcal{I} \\subset \\mathcal{N}, i \\not \\in \\mathcal{I}$ to create posts in his (her) favour. In each step the advertiser $i$ can choose where to invest its available budget per step. The aim is to sequentially maximize, by leveraging the knowledge in possession of the advertiser $i$, the expected value of the return-of-investment $U$ at each decision step with the properties of quick convergence, safe exploration and dealing with the exploration-exploitation dilemma. Observe that the return-of-investment $U$ due to our context is unknown to the advertiser $i$, possibly noisy, continuous and expensive to evaluate. Let us denote $\\hat{U}(\\mathbb{x})$, as the sampled value in the the return-of-investment function $U$ at the point $\\mathbb{x}$.\n",
    "\n",
    "Let us denote $\\mathcal{\\hat{M}}=\\{1,2,...,M\\}$. We suppose that for each decision step $t\\in \\mathcal{\\hat{M}}$ and $n \\in \\mathcal{I}$ there is a known associated cost per post $c_n(t)$ [EUR/post] so that the user $n$ will be willing to create posts in favor of the advertiser $i$ in the decision step $t$.\n",
    "\n",
    "In order to formulate this optimization problem, we need to quantify the participation of each user $n$ in the decision step $t\\in \\mathcal{\\hat{M}}$ of the advertiser $i$. Hence in a decision step $t$, we define for each user $n \\in \\mathcal{I}$, the \\textit{unknown participation ratio} $a_n(t) \\in [0,1]$ in the decision step $t$ as the unknown proportion of user $n$'s generated posts acquired by the advertiser $i$ in the unit of time. Then, by definition $a_n(t)  \\lambda ^ {(n)} (t)$ [posts/time window] represents the number of posts that the user $n \\in \\mathcal{I}$ creates in favor of the advertiser $i$ in the decision step $t,$ where $\\lambda ^ {(n)} (t)$ is the posting rate in the decision step $t$ of the user $n$. \n",
    "\n",
    "The budget invested to the user $n \\in \\mathcal{I}$ by the advertiser $i$ in the decision step $t \\in \\mathcal{\\hat{M}}$ is $ B_n(a_n(t)) = c_n(t) a_n(t) \\lambda ^ {(n)}(t)$ [EUR/time window]. Given that the total budget of the advertiser $i$ is $B$ [EUR/time window] in each decision step, the constraints in our Sequential Budgeted Portfolio Optimization via Bayesian optimization (SBPO) problem will be naturally a budget restriction $\\sum_{n \\in \\mathcal{I}} B_n(a_n(t)) \\leq B$ and the continuous unknown variables $a_n(t) \\in [0,1]$. \n",
    "\n",
    "Under the assumption that the cost per post and the posting rate for each user are constants $\\forall t \\in \\{ 1,2,...,M \\}$, the Sequential Budgeted Portfolio Optimization problem desires to find $M$ sequential participation ratios $\\{ a_n(1) \\}_{n \\in \\mathcal{I}}, \\{ a_n(2) \\}_{n \\in \\mathcal{I}},..., \\{ a_n(M) \\}_{n \\in \\mathcal{I}}$ such that the $M$ sampled values of the ROI $\\hat{U}(\\{a_n(1) \\}_{n \\in \\mathcal{I}}), \\hat{U}(\\{a_n(2) \\}_{n \\in \\mathcal{I}}),...,\\hat{U}(\\{a_n(M) \\}_{n \\in \\mathcal{I}}$ satisfies the properties of quick convergence, safe exploration and dealing with the exploration-exploitation dilemma. Observe that the Sequential Budgeted Portfolio Optimization problem by construction is equivalent to the first $M$ configurations that maximizes by Bayesian optimization the following problem:\n",
    "\\begin{align*}\n",
    "\\label{[BPO-BO]}\n",
    "\\textrm{max}_{\\{a_n \\}_{n \\in \\mathcal{I}}} \\quad & U(\\mathbf{a}):=U(\\{a_n \\}_{n \\in \\mathcal{I}}),\\\\\n",
    "\\textrm{ s.t.} \\quad & \\sum_{n \\in \\mathcal{I} }  c_n a_n \\lambda ^ {(n)} \\leq B,\\tag*{[BPO-BO]}\\\\\n",
    "& 0 \\leq a_n \\leq 1,  \\forall n \\in \\mathcal{I}.\n",
    "\\end{align*}\n",
    "\n",
    "Note that the temporal aspect of the Sequential Budgeted Portfolio Optimization problem [BPO-BO] underlies in that the advertiser relies in the sequential knowledge of $M$ sampled values of the ROI $\\hat{U}(\\{a_n(1) \\}_{n \\in \\mathcal{I}}), \\hat{U}(\\{a_n(2) \\}_{n \\in \\mathcal{I}}),...,\\hat{U}(\\{a_n(M) \\}_{n \\in \\mathcal{I}},$ and therefore this approach implies exploration in the sequential participation ratios $\\{ a_n(1) \\}_{n \\in \\mathcal{I}}, \\{ a_n(2) \\}_{n \\in \\mathcal{I}},..., \\{ a_n(M) \\}_{n \\in \\mathcal{I}}$. Hence, we require that there is no destructive exploration, and that each sequential decision of the advertiser improves the outcome of the ROI over time.\n",
    "\n",
    "The use of a bucket of influencers $\\mathcal{I}$, and not the entire social network $\\mathcal{N}$ is because, as we will discuss in the thesis dissertation, we expect that the Sequential Budgeted Portfolio Optimization problem [BPO-BO] presents the curse of dimensionality in the cardinality of the influencer bucket since that the horizon $M$ is generally low and less than $30$ (or even less than $10$) for practical purposes. Due to the above situation, it is necessary to select a bucket of influencers $\\mathcal{I}$ in such a way that it is not so large in the number of users for the curse of dimensionality to take effect, or well so small that it is not a good optimum of the Sequential Budgeted Portfolio Optimization problem [BPO-BO]."
   ]
  },
  {
   "cell_type": "markdown",
   "metadata": {},
   "source": [
    "### Selection of bucket of influencers"
   ]
  },
  {
   "cell_type": "markdown",
   "metadata": {},
   "source": [
    "Above we mentioned our suspicion that the Sequential Budgeted Portfolio Optimization problem [BPO-BO] presents the curse of dimensionality in the cardinality of the influencer bucket $\\mathcal{I}$ since that the horizon $M$ is generally low ($M \\leq 30$) for practical effects. Therefore, it is necessary to select a bucket of influencers $\\mathcal{I}$ in such a way that it is not so large in the number of users for the curse of dimensionality to take effect, or well so small that it is not a good optimum of the Sequential Budgeted Portfolio Optimization problem [BPO-BO]. Hence, the possibility of using the entire social network $\\mathcal{N}$ is discarded.\n",
    "\n",
    "In order to apply a Bayesian optimization approach to our problem it is necessary to define the bucket of influencers $\\mathcal{I} \\subset \\mathcal{N}.$ Let us assume that we have a measure $\\Phi :\\mathcal{N} \\rightarrow \\mathbb{R} $ that ranks a user by the impact of its activity in the return-of-investment $U$ over a social network $\\mathcal{N}$. By means of such measure $\\Phi$, we have a total order of users in a social network $\\mathcal{N}$. If the measure $\\Phi$ realistically captures the activity of users and their impact on the network, then it is expected that the utility function of selecting the first $N^\\prime$ users through the induced order of $\\Phi$ captures a good expected return-of-investment $U$ and that the $N-N^\\prime$ users have a marginal relevance on the expected return-of-investment. Note that the complementarity of the first $N^\\prime$ users is considered, but since that we have an order induced by $\\Phi,$ then we have an order of relevance of the users such that we do not expect that we have complementarity of the first $N^\\prime$ users with the rest of the $N-N^\\prime$ users. Namely, we do not expect that one user from the group of the first $N^\\prime$ users and another user from the group of the remaining $N-N^\\prime$ users will achieve greater return-of-investment $U$ than considering two users from the group of the first $N^\\prime$ users.\n",
    "\n",
    "In this way, the measure $\\Phi$ naturally suggests us a path to choose the bucket of influencers $\\mathcal{I}$ by selecting the first $N^\\prime$ users by the induced order of the measure $\\Phi$ and to discard the rest. Thus, our problem is reduced to the question of how to select the variable $N^\\prime$. Subsequently, we will discuss how to solve this issue and an algorithm to do that once a measure $\\Phi$ has been selected.\n",
    "\n",
    "Finally, we complement this section by defining measures $\\Phi$ of relevance in our social network $\\mathcal{N}$. One way to define such a measure $\\Phi$ is by the influence of impressions on a social network. The aim is to estimate the influence in function of the tracked impressions of a specific user, say user $j$, over the entire network. In order to define the measure of interest, we first remember that the impression influence of user $j$ on user $n,\\ p^{(n)}_j$, is the average impression ratio that a post found on the Newsfeed of user $n$ is of label $j$, i.e., has been originally created by user $j$. Hence, we propose the following measure of influence of impressions on a social network $\\mathcal{N}$ of the user $j \\in \\mathcal{N}$, $\\Phi_j=\\frac{1}{N-1} \\sum_{n \\not=j, n \\in \\mathcal{N}}  p^{(n)}_j.$\n",
    "\n",
    "Similarly as the above, we can define the influence of engagements on a social network. In this case, we define the engagement influence of user $j$ on user $n, \\ q^{(n)}_j$, as the average engagement ratio that a post found on the Wall of user $n$ is of label $j$, i.e., has been originally created by user $j$. With the above, we propose the following measure of influence of engagements on a social network $\\mathcal{N}$ of the user $j \\in \\mathcal{N}$, $\\Phi_j=\\frac{1}{N-1} \\sum_{n \\not=j, n \\in \\mathcal{N}}  q^{(n)}_j.$\n",
    "\n",
    "Other measure definitions are also possible as for example the number of followers of each user $j$ on a social network $\\mathcal{N}$. Note that in all of the above measures since an influence (or followers) score is associated with each user, the social users can be ranked by decreasing order of their influence (or followers). Hence, users with low influence (or followers) will likely to have low impact in the the expected return-of-investment $U$ of our sequential budgeted portfolio optimization problem [BPO-BO] and so, we can select our bucket of influencers $\\mathcal{I}$ as the users which have the highest influence (or followers) between the users in the network $\\mathcal{N}$.\n",
    "\n",
    "Since that the advertiser keeps track on the online activity of the influencers in the network, we will suppose that the average impression ratios $\\{p^{(j)}_n \\}_{n, j \\in \\mathcal{N}}$, the average engagement ratios $\\{q^{(j)}_n \\}_{n, j \\in \\mathcal{N}}$ and the followers of each user are obtained in the last time window from the monitored activity."
   ]
  },
  {
   "cell_type": "markdown",
   "metadata": {},
   "source": [
    "### Implementation of the sequential budgeted portfolio optimization problem"
   ]
  },
  {
   "cell_type": "markdown",
   "metadata": {},
   "source": [
    "Previously, we defined the sequential budgeted portfolio optimization problem [BPO-BO] where the advertiser takes decisions over several epochs in a fixed influencer bucket of users $\\mathcal{I}$, aiming to find the best set of influencers and the best associated participation rates that maximise the return-of-investment (ROI) $U$ in a short time horizon $M$. However, on a practical and realistic level by the mentioned in the Chapter 5 of the dissertation, the time bottleneck in the Bayesian optimization framework is at the moment of finding the next $\\{ a_n(t+1) \\}_{n \\in \\mathcal{I}}$ via the acquisition function. For this reason, the widely used library **GPyOpt** in python presents problems in the Bayesian optimization framework with small volume feasible sets like the sequential budgeted portfolio optimization problem [BPO-BO] introduced above when the influencer bucket  has a cardinality greater than 5 users. Specifically as we stated, since that the acquisition function is maximized of the Bayesian optimization framework by uniformly sampling points in $\\mathbb{R}^{k}$ with $k=|\\mathcal{I}|$, then when the feasible set is small as in the sequential budgeted portfolio optimization problem [BPO-BO], we have that the library **GPyOpt** is inefficient in time since many points will be outside the feasible set for influencer buckets with more than 5 users. The above problem generates a bottleneck in time when we try to force the library library **GPyOpt** into the sequential budgeted portfolio optimization problem [BPO-BO] for influencer buckets with more than 5 users. For this reason, it is necessary to make the uniform sampling of points in the feasible space of the sequential budgeted portfolio optimization problem [BPO-BO] more efficient than the library library **GPyOpt**. \n",
    "\n",
    "Due to the previous problem of applying the extensively used library library **GPyOpt** to the sequential budgeted portfolio optimization problem [BPO-BO]. Then, we have the need to make a new and more efficient implementation for the sequential budgeted portfolio optimization problem [BPO-BO] presented in this section. This new implementation will exploit the structure of the feasible space of the sequential budgeted portfolio optimization problem [BPO-BO] and will speed up the uniform sampling problem to evaluate the acquisition function at points in the feasible space. \n",
    "\n",
    "Let us denote the cardinality of the influencer bucket $\\mathcal{I}$ as $N^\\prime$ for the rest of this chapter. We proceed to define $\\mathcal{M}_{N^\\prime}$ as the feasible set at each epoch of the sequential budgeted portfolio optimization problem [BPO-BO] as follows:\n",
    "\n",
    "\\begin{align}\n",
    "\\label{eqmn}\n",
    "\\mathcal{M}_{N^\\prime}=\\{ \\mathbf{a}\\in \\mathbb{R}^{N^\\prime} | \\sum_{n \\in \\mathcal{I}}   c_n a_n \\lambda ^ {(n)} \\leq B, \\nonumber\\\\\n",
    "\\forall n \\in \\mathcal{I}, \\ 0 \\leq a_n \\leq 1\\},\n",
    "\\end{align}\n",
    "\n",
    "Let us also define the set of points $\\mathcal{S}_{N^\\prime}$ in $\\mathcal{M}_{N^\\prime}$ satisfying the condition $\\sum_{n \\in \\mathcal{I}}  c_n a_n \\lambda ^ {(n)}=B.$ Observe that in the sampling there is an exponential increase in volume associated with adding extra dimensions to the feasible space $\\mathcal{M}_{N^\\prime}$ by the curse of dimensionality.  In order to visualize this for instance, consider $10^2$ evenly spaced sample points suffice to sample a unit interval (a $1$-dimensional cube) with no more than $10^{-2} = 0.01$ distance between points; an equivalent sampling of a $10$-dimensional unit hypercube with a lattice that has a spacing of $10^{-2} = 0.01$ between adjacent points would require $10^{20}$ sampled points. In general, with a spacing distance of $10^{-n}$ the $10$-dimensional hypercube appears to be a factor of $10^{n(10-1)}$ larger than the $1$-dimensional hypercube, which is the unit interval. Since that $\\mathcal{S}_{N^\\prime} \\subset \\mathcal{M}_{N^\\prime}$ is a hyper-cube intersected with a hyper-plane, then the observation above applies to $\\mathcal{S}_{N^\\prime}$ and to $\\mathcal{M}_{N^\\prime}$ when we increase the number of users $N^\\prime$ in our bucket of influencers $\\mathcal{I}$. The above situation implies that more sampling points are required as $N^\\prime$ increases. \n",
    "\n",
    "In addition to the above, note that the volume of $\\mathcal{M}_{N^\\prime},$ which can be computed by iterated integral is $\\frac{B^{N^\\prime}}{N^\\prime !}.$ Therefore, when $N^\\prime$ increases the volume of $\\mathcal{M}_{N^\\prime}$ will be reduced aggravating the use of the extensively used library **GPyOpt** to the sequential budgeted portfolio optimization problem [BPO-BO]. From the previous observations the selection of the sampling of the feasible space $\\mathcal{M}_{N^\\prime}$ is critical to speed up **GPyOpt**. On the other hand, the volume of the sequential budgeted portfolio optimization problem [BPO-BO] in the feasible set $\\mathcal{S}_{N^\\prime}$ is zero, which makes the use of the library **GPyOpt** impossible. \n",
    "\n",
    "Suppose for the sake of simplicity that we want to solve the sequential budgeted portfolio optimization problem [BPO-BO] in the feasible set $\\mathcal{S}_{N^\\prime}$ instead of $\\mathcal{M}_{N^\\prime}.$\n",
    "\n",
    "Let us note that we can sample uniformly in $\\mathcal{S}_{N^\\prime}$ by sampling from the Dirichlet distribution $Dir(\\alpha)$  with $\\alpha=(1,...,1) \\in \\mathbb{R}^{N^\\prime}$ as the following Lemma} states. \n",
    "\n",
    "\n",
    "**Lemma** [*Quick sampling of the feasible set*]. Let us suppose the above notation and that the point $\\mathbf{x}:=\\{ x_n \\}_{n \\in \\mathbb{R}^{N^\\prime}}$ is sampled according to the distribution $Dir(\\alpha)$ with $\\alpha=(1,...,1) \\in \\mathbb{R}^{N^\\prime}.$ Then, we can obtain a point $\\{ a_n \\}_{n \\in \\mathcal{I}}\\in \\mathbb{R}^{N^\\prime}$ sampled from the feasible space $\\mathcal{M}_{N^\\prime}$ in function of $\\mathbf{x}.$ Moreover, we can obtain a point $\\{ a_n \\}_{n \\in \\mathcal{I}}\\in \\mathbb{R}^{N^\\prime}$ uniformly sampled from the space $\\mathcal{S}_{N^\\prime}$ in function of $\\mathbf{x}.$\n",
    "\n",
    "**proof**\n",
    "Let us first note that the support of $Dir(\\alpha)$, by definition, is the $N^\\prime$-dimensional unitary simplex. Namely, we have by construction that $\\mathbf{x}$ satisfies $x_n \\in [0,1], \\ \\forall n \\in \\{ 1, 2...,N^\\prime\\}$ and $\\sum_{n \\in \\{ 1, 2...,N^\\prime\\}} x_n=1.$\n",
    "\n",
    "We will suppose without loss of generality that $c_n \\lambda^{(n)} \\not=0, \\ \\forall n  \\in \\{ 1, 2...,N^\\prime\\}$ in other case we can diminish one dimension to the bucket of influencers $\\mathcal{I}$ and to reduce our problem by induction on $N^\\prime-1.$ So, we proceed to obtain a uniformly sampled point $\\{ a_n \\}_{n \\in \\mathcal{I}}\\in \\mathbb{R}^{N^\\prime}$ in $\\mathcal{S}_{N^\\prime}$ by means of the uniformly sampled point $\\mathbf{x}$ according to the Dirichlet distribution $Dir(\\alpha)$ with $\\alpha=(1,...,1) \\in \\mathbb{R}^{N^\\prime}.$ Observe that if we have a budget of $B$ and we partition the budget into the $N^\\prime$ users each user $n \\in \\{ 1, 2...,N^\\prime\\}$ should receive $B*x_n$ of the budget. Let be $a_n, \\ \\forall n \\in \\{ 1, 2...,N^\\prime\\}$ the participation rate associated with the user $n$, then $a_n$ should be equal to $\\frac{B*x_n}{c_n \\lambda^{(n)}}$. The above process implies that we are constructing the participation rates by sampling from a Dirichlet distribution $Dir(\\alpha)$ with $\\alpha=(1,...,1) \\in \\mathbb{R}^{N^\\prime},$ but satisfying by construction $c_1 \\lambda^{(1)} a_1+...+c_{N^\\prime} \\lambda^{(N^\\prime)} a_{N^\\prime}=B$. Since $x_n \\in [0,1], \\ \\forall n \\in \\{ 1, 2...,N^\\prime\\}$, then $a_n \\in [0,\\frac{B}{c_n \\lambda^{(n)}}], \\ \\forall n \\in \\{ 1, 2...,N^\\prime\\}$. Finally, if any $a_n$ turns out to be greater than one, then the point is discarded and a new point is obtained, and thus we preserve uniformity in the space $\\mathcal{S}_{N^\\prime}$ with the box constraints. Hence, we have obtained a point $\\{ a_n \\}_{n \\in \\mathcal{I}}$ uniformly sampled in our space $\\mathcal{S}_{N^\\prime} \\subset \\mathcal{M}_{N^\\prime}$ in function of the point $\\mathbf{x},$ and we have the desired.\n",
    "\n",
    "_________________________\n",
    "\n",
    "The previous Lemma allows us to find the maximum of the acquisition function in a different way than the library **GPyOpt** by sampling uniformly in $\\mathbb{S}^{N^\\prime}$ instead of $\\mathbb{R}^{N^\\prime}$ via a Dirichlet distribution $Dir(\\alpha)$ with $\\alpha=(1,...,1) \\in \\mathbb{R}^{N^\\prime}$. The new form of uniform sampling by quick sampling of the feasible set $\\mathbb{S}^{N^\\prime}$ is presented in the dissertation Algorithm 7.\n",
    "\n",
    "Note that the selection of $\\alpha=(1,...,1) \\in \\mathbb{R}^{N^\\prime}$ in the Dirichlet distribution $Dir(\\alpha)$ of the Lemma is necessary, because in other case the points in the Dirichlet distribution $Dir(\\alpha)$ with $\\alpha \\not =(1,...,1) \\in \\mathbb{R}^{N^\\prime}$ would tend to collapse into regions of the $N^\\prime$-dimensional unitary simplex and so, by the abobve Lemma the obtained participation ratios would tend to collapse into regions of the space $\\mathcal{S}_{N^\\prime}$. Namely, if the selection of $\\alpha$ in the Dirichlet distribution $Dir(\\alpha)$ of the last Lemma is different of $(1,...,1) \\in \\mathbb{R}^{N^\\prime},$ then the sampling in the feasible set $\\mathcal{S}_{N^\\prime}$ would not be uniform which would make the optimum of the acquisition function require more iterations $E$ to find it.\n",
    "\n",
    "Therefore, we have an implementation of the sequential budgeted portfolio optimization problem [BPO-BO] with feasible set $\\mathcal{S}_{N^\\prime}.$ Note that if an implementation of the sequential budgeted portfolio optimization problem [BPO-BO] with feasible set $\\mathcal{M}_{N^\\prime}$ is desired, then we have an analogous lemma and algorithm to the previous Lemma and Algorithm 7 for the feasible set $\\mathcal{M}_{N^\\prime}$ by a generalised Dirichlet distribution."
   ]
  },
  {
   "cell_type": "markdown",
   "metadata": {},
   "source": [
    "### Solution to the general sequential budgeted portfolio optimization problem"
   ]
  },
  {
   "cell_type": "markdown",
   "metadata": {},
   "source": [
    "Above, we defined the sequential budgeted portfolio optimization problem [BPO-BO] by setting a bucket of influencers. However, in applications we do not always have a predefined bucket of influencers $\\mathcal{I}$ and therefore it is necessary to use other methods to obtain such a bucket. Subsequently, we analyzed how to obtain a bucket of influencers $\\mathcal{I}$ based on a measure $\\Phi$ of the tracked activirty of the users in a social network $\\mathcal{N}$, but the question is reduced to how many users $N^\\prime$ to consider in our forward selection process. Therefore, in this section we solve this question and we propose a general algorithm for the sequential budgeted portfolio optimization problem where a bucket of influencers $\\mathcal{I}$ has not been predefined.\n",
    "\n",
    "In the case where we do not have computational constraints of time and memory, note that we can modify the Algorithm 6 of the dissertation via the Algorithm 7 to find where the maximum over a horizon $M$ of decision steps is located. The Algorithm 8 in the dissertation consists of finding the maximum of the underlying sequential budgeted portfolio optimization problem [BPO-BO] by incrementally varying the cardinality of the influencer bucket $\\mathcal{I}$ by adding one user at a time.\n",
    "\n",
    "Observe that the horizon $M \\leq 30$ is small in practical effects since that no advertiser $i$ will, for all practical purposes, change a high number of times the participation rates of influencers. \n",
    "\n",
    "Besides, let us note that as the number of users in the bucket of influencers $\\mathcal{I}$ increases in Algorithm~\\ref{algo6}, the optimum found with Bayesian optimisation potentially improves until a certain size of users in the network $\\hat{N}\\leq N$ is reached. Once this $\\hat{N}$ is exceeded, and because the size of the feasible set increases, we tend to need more iterations $M$ to reach a better optimum (i.e. we experience the curse of dimensionality in the Bayesian optimization framework). Since $M$ is fixed in advance by the advertiser and represents the tolerable number of changes in the participation rates of the utility function, then such $\\hat{N}$ is achievable. \n",
    "\n",
    "By the above argument, we proceed to state the expected empirical behaviour in the Algorithm to find where the maximum over a horizon $M$ of decision steps is located.\n",
    "\n",
    "**Observation** [*Expected empirical behaviour in the Algorithm to find where the maximum over a horizon $M$ of decision steps is located*].\n",
    "Assume the above notation. We define $d_{N^\\prime}={\\underset {j=T+1,...,T+M}{\\operatorname {max} }}\\, \\hat{U}(\\{ a_n(j) \\}_{n \\in \\mathcal{I}}), \\ \\forall N^\\prime \\leq N,$ where $\\mathcal{I}$ is defined as the first $N^\\prime$ elements of the social network $\\mathcal{N}$ sorted in decreasing order by the measure $\\Phi$. Then, there exists an $\\hat{N}\\leq N$ such that $d_{\\hat{N}} \\geq d_{N^\\prime}, \\ \\forall N^\\prime \\leq \\hat{N}$  and $d_{\\hat{N}} \\geq d_{N^\\prime}, \\ \\forall N^\\prime \\geq \\hat{N}.$\n",
    "_________________________________________________________________________\n",
    "\n",
    "Finally, we will implement the sequential budgeted portfolio optimization problem [BPO-BO] in a practical and realistic way by the Algorithm 7 based in the library **GPyOpt**. Therefore, the Algorithm 7 is implemented for realistic and practical purposes."
   ]
  },
  {
   "cell_type": "markdown",
   "metadata": {},
   "source": [
    "### Numerical evaluations on a real Twitter data trace"
   ]
  },
  {
   "cell_type": "markdown",
   "metadata": {},
   "source": [
    "We proceed to evaluate the performance of our model introduced above on a real large Twitter data-log to evaluate the performance of our boosted Algorithm to find where the maximum over a horizon $M$ of decision steps is located by means of previous Lemma.\n",
    "\n",
    "In particular for our purposes, we use the 4-uple per post with the following information obtained from this database: $[\\texttt{TweetID, TimeStamp, UserID, RetweetID}]$. Each participating user and Tweet have a unique associated UserID and TweetID respectively. RetweetID represents the TweetID which was retweeted (or $-1$ if it is a self-post) and TimeStamp is the time that the Tweet was (re)-posted. The entire database spans $57$ days and involves $N=181,621$ different $UserID$s.\n",
    "\n",
    "From the dataset, we derive the empirical post and re-post rate for every user $\\{ \\lambda ^ {(n)} \\}_{n \\in \\mathcal{N}}$ and $\\{ \\mu ^ {(n)} \\}_{n \\in \\mathcal{N}}$ respectively. Similarly as in Section~\\ref{sec:V-B}, we can infer a friendship graph using the relationships of retweets (RetweetID), by drawing a directed edge from leader to follower, each time a user retweets something. We call this a \"star\" shaped graph due to its structure: it contains $181,621$ nodes, $517,421$ edges with a mean degree of $5.70$ followers per user. \n",
    "\n",
    "Consequently, by using the derived social star-graph through the trace-log and the posting and re-posting rates, the average impression ratios $\\{ p^{(j)}_n \\}_{n,j \\in \\mathcal{N}}$ %and the average engagement ratios $\\{ q^{(j)}_n \\}_{n,j \\in \\mathcal{N}}$ \n",
    "can be estimated by the Markovian method introduced in \\cite{a15} (see Section~\\ref{sec:II}). By definition, the engagements are the shared impressions during the $57$ days. \n",
    "\n",
    "As a next step, we need to determine the price per post $c_n$ charged to the advertiser user $i$ by user $n$. In this case, we will use the common and approximate market practice on Twitter normalized through the number of users in the database. Observe that our database is of the order of $10^5$ users and Twitter is of the order of $10^8$, so we will assume a normalization constant in the number of followers of $10^3$, so our price per post of user $n$ to consider is $2 \\textit{#Followers}_n$ [EUR/post]. For the evaluations we will consider no restrictions on user participation ratios ($r_n=1, \\forall n \\in \\mathcal{N}$) in the absence of information. Besides, we select as advertiser the user with $\\text{UserID}=2513730044$, who has $15\\textit{#Followers}$ and a fixed budget of $15$ [EUR/day]. This user is potentially a Micro-influencer.\n",
    "\n",
    "Let us suppose that the return-of-investment function $U$, which is a priory unknown, is defined by:\n",
    "\\begin{equation}\n",
    "\\label{ecuacion5}\n",
    "    U(\\{a_n \\}_{n \\in \\mathcal{I}})=\\sum_{j \\in \\mathcal{N} \\setminus \\{i \\}} \\delta \\ log[ \\ \\omega^{(j)}(\\{a_n \\}_{n \\in \\mathcal{I}})+1],\n",
    "\\end{equation}\n",
    "\n",
    "With $\\delta=45$ and the potential $\\omega^{(j)}$ of the user $j \\in \\mathcal{N}$ restricted to the bucket of influencers $\\mathcal{I}$ instead of the whole set of users in the network $\\mathcal{N}$.\n",
    "\n",
    "Finally, consider that we select our bucket of influencers in two possible ways:\n",
    "\n",
    "* **By influence of impressions:** Defined by sorting in descending order the influence of impressions of each user $j \\in \\mathcal{N}$ in the network by the measure $\\Phi_j=\\frac{1}{N-1} \\sum_{n \\not=j, n \\in \\mathcal{N}}  p^{(n)}_j,$\n",
    "* **By followers:** Defined by sorting in descending order the number of followers of each user $j \\in \\mathcal{N}$ in the network,\n",
    "\\end{enumerate}\n",
    "\n",
    "Note that in all of the above measures since an influence (or followers) score is associated with each user, the social users can be ranked by decreasing order of their influence (or followers). Hence, users with low influence (or followers) will likely to have low impact in the the return-of-investment $U$ of our sequential budgeted portfolio optimization problem [BPO-BO] and so, we can select our bucket of influencers $\\mathcal{I}$ as the users which have the highest influence (or followers) between the users in the network $\\mathcal{N}$.\n",
    "\n",
    "For the purpose of our numerical evaluations we consider a radial basis kernel.\n",
    "\n",
    "We proceed to solve and to find the optimal solutions of the sequential budgeted portfolio optimization problem [BPO-BO] by the boosted Algorithm 8 and previous Lemma with the measures of influence by followers and according to three horizon respectively: long horizon $M=30$, medium horizon $M=15$ and short horizon $M=5$."
   ]
  },
  {
   "cell_type": "markdown",
   "metadata": {},
   "source": [
    "## 2. Actual Input from Twitter Data"
   ]
  },
  {
   "cell_type": "markdown",
   "metadata": {},
   "source": [
    "We have used the OSPemul.ipynb to calculate the influence from a user to another one using real social network traces. As we saw in the second part of the notebook OSPemul.ipynb, we need to derive from the trace the input to feed the model solver. This input includes:\n",
    "\n",
    "    (i) The tweet rate of the users: this is a dictionary having keys the userid's and entries the estimated posting rate for each user. We use a sample mean estimate from the trace data. For each user we calculate the ratio:\n",
    "             (Number of posts of user i)/(EndTime_Trace - BeginTime_Trace)\n",
    "    \n",
    "    (ii) The re-tweet rate of the users: this is again a dictionary similar to (i)\n",
    "    \n",
    "    (iii) The leader-graph: This graph is normally unknown and we should infer it from the raw data trace. Since the data trace has the 4-entry structure (tweetid, timestamp, userid, retweetid) it does not provide information over the user from whom the post was retweeted. We can obtain information over the origin of the retweet, i.e. who wrote it. So, we propose a simple inference rule that draws the unknown leader graph, where each user directly follows every other user whose original posts appear on his wall. This is a strong assumption; it could be replaced by alternative inferred social graph models, that are more close to reality. In case the real graph is available, we can use this as the the leader-graph of the model (although it is often the case that the real graph contains many more users and edges than those appearing on the trace). In all these cases, the program structure of the leader graph is a dictionary-of-sets. The keys are all the userid's. Then the entry of each key is the set of his leaders.\n",
    "    \n",
    "In what follows we give the code to fill in (i) the \"Rtweet\" dictionary for the posting rates, (ii) the \"Rrtweet\" dictionary for the re-posting rates, and (iii) the leader-graph \"LeadGraph\". We can also fill-in the follower-graph \"FollowGraph\"."
   ]
  },
  {
   "cell_type": "markdown",
   "metadata": {},
   "source": [
    "First extract an Author Dictionary to store the origin of all tweetid's. This stores the information of the author origin of each tweetid."
   ]
  },
  {
   "cell_type": "code",
   "execution_count": 8,
   "metadata": {},
   "outputs": [
    {
     "name": "stdout",
     "output_type": "stream",
     "text": [
      "Insert number of users to study:\t18\n"
     ]
    }
   ],
   "source": [
    "U=int(input('Insert number of users to study:\\t'))"
   ]
  },
  {
   "cell_type": "code",
   "execution_count": 9,
   "metadata": {},
   "outputs": [
    {
     "name": "stdout",
     "output_type": "stream",
     "text": [
      "Insert budget to study:\t100\n"
     ]
    }
   ],
   "source": [
    "B=float(input('Insert budget to study:\\t'))"
   ]
  },
  {
   "cell_type": "code",
   "execution_count": 10,
   "metadata": {},
   "outputs": [
    {
     "name": "stdout",
     "output_type": "stream",
     "text": [
      "We run a Bayesian optimization analysis of the 18 highest influential users and with a budget of 100.0[EUR/time window]\n"
     ]
    }
   ],
   "source": [
    "print('We run a Bayesian optimization analysis of the {0} highest influential users and with a budget of {1}[EUR/time window]'.format(U,B))"
   ]
  },
  {
   "cell_type": "code",
   "execution_count": 11,
   "metadata": {},
   "outputs": [],
   "source": [
    "directory = \"/Users/Ricardo Lopez Dawn/Desktop/Python BPO/\"\n",
    "f = open(directory+\"/russian_rtid.txt\")\n",
    "Author = {}\n",
    "for lign in f:\n",
    "    lign = lign.split()\n",
    "    tweetid = int(lign[0])\n",
    "    userid = int(lign[2])\n",
    "    Author[tweetid] = userid\n",
    "f.close()"
   ]
  },
  {
   "cell_type": "code",
   "execution_count": 12,
   "metadata": {},
   "outputs": [],
   "source": [
    "Ntweet = {}\n",
    "Nrtweet = {}\n",
    "LeadGraph = {}\n",
    "FollowGraph = {}\n",
    "FirstT = None\n",
    "LastT = None\n",
    "f = open(directory+\"/russian_rtid.txt\")\n",
    "for lign in f:\n",
    "    lign = lign.split()\n",
    "    tstamp = int(lign[1])\n",
    "    userid = int(lign[2])\n",
    "    rtid = int(lign[3])\n",
    "    if FirstT == None:\n",
    "        FirstT = tstamp\n",
    "    if userid not in Ntweet:\n",
    "        Ntweet[userid] = 0\n",
    "        Nrtweet[userid] = 0\n",
    "        LeadGraph[userid] = set()      \n",
    "    if rtid == -1:\n",
    "        Ntweet[userid] += 1\n",
    "    else: \n",
    "        if rtid in Author:\n",
    "            LeadGraph[userid].add(Author[rtid])\n",
    "            Nrtweet[userid] += 1\n",
    "            if Author[rtid] not in FollowGraph:\n",
    "                FollowGraph[Author[rtid]] = set()\n",
    "            FollowGraph[Author[rtid]].add(userid)\n",
    "        else:\n",
    "            Ntweet[userid] += 1\n",
    "LastT = tstamp\n",
    "f.close()"
   ]
  },
  {
   "cell_type": "markdown",
   "metadata": {},
   "source": [
    "From the above we derive the posting and re-posting estimated rates (Rtweet, Rrtweet)"
   ]
  },
  {
   "cell_type": "code",
   "execution_count": 13,
   "metadata": {},
   "outputs": [],
   "source": [
    "Rtweet = {}\n",
    "Rrtweet = {}\n",
    "for user in Ntweet:\n",
    "    Rtweet[user] = Ntweet[user]/57 #We divide by 57 because we are going to take a daily window\n",
    "    Rrtweet[user] = Nrtweet[user]/57 #We divide by 57 because we are going to take a daily window"
   ]
  },
  {
   "cell_type": "code",
   "execution_count": 14,
   "metadata": {},
   "outputs": [],
   "source": [
    "Userlist = {}\n",
    "k=0\n",
    "for user in Rtweet:\n",
    "    Userlist[k] = user\n",
    "    k+=1"
   ]
  },
  {
   "cell_type": "code",
   "execution_count": 15,
   "metadata": {},
   "outputs": [
    {
     "name": "stdout",
     "output_type": "stream",
     "text": [
      "181621\n"
     ]
    }
   ],
   "source": [
    "N = len(Userlist)\n",
    "print(N)"
   ]
  },
  {
   "cell_type": "markdown",
   "metadata": {},
   "source": [
    "## 3. Solution with Sparse Matrices and Vectors"
   ]
  },
  {
   "cell_type": "markdown",
   "metadata": {},
   "source": [
    "From the Linear System solution, it is necessary to first populate the matrices $A$ and $C$, which are the same for any user of the system. \n",
    "\n",
    "**Note** We will keep in memory Dictionaries, with Key the userid and value the dictionary of positive matrix entries."
   ]
  },
  {
   "cell_type": "markdown",
   "metadata": {},
   "source": [
    "### Build matrix A in sparse format"
   ]
  },
  {
   "cell_type": "markdown",
   "metadata": {},
   "source": [
    "Matrix A is filled as a dictionary-of-dictionaries to contain all the non-negative entries."
   ]
  },
  {
   "cell_type": "code",
   "execution_count": 16,
   "metadata": {},
   "outputs": [],
   "source": [
    "def som_sparse(Lvec,Mvec,Lead):\n",
    "    Som = {} \n",
    "    for user in Lvec:\n",
    "        Som[user] = 0\n",
    "        for leader in Lead[user]:\n",
    "            Som[user]+=Lvec[leader]+Mvec[leader]\n",
    "    return Som"
   ]
  },
  {
   "cell_type": "code",
   "execution_count": 17,
   "metadata": {},
   "outputs": [],
   "source": [
    "def fill_A_sparse(Lvec,Mvec,Lead,Som):\n",
    "    A = {}\n",
    "    # We consider that Lead[j] contains the set of leaders of node j.\n",
    "    #\n",
    "    for user in Lvec:\n",
    "        A[user] = {}\n",
    "        for leader in Lead[user]:\n",
    "            A[user][leader] = Mvec[leader]/Som[user]\n",
    "    return A"
   ]
  },
  {
   "cell_type": "code",
   "execution_count": 18,
   "metadata": {},
   "outputs": [],
   "source": [
    "def fill_A_trans_sparse(Lvec,Mvec,Lead,Som):\n",
    "    A_trans = {}\n",
    "    # This is the A transpose that we will use also later.\n",
    "    # A_trans is a dictionary. The keys are the columns of matrix form A. \n",
    "    # Each key shows the non-zero elements of A for this column.\n",
    "    # We consider that Lead[j] contains the set of leaders of node j.\n",
    "    #\n",
    "    for user in Lvec:\n",
    "        A_trans[user] = {}\n",
    "    for user in Lvec:\n",
    "        for leader in Lead[user]:\n",
    "            A_trans[leader][user] = Mvec[leader]/Som[user]\n",
    "    return A_trans"
   ]
  },
  {
   "cell_type": "markdown",
   "metadata": {},
   "source": [
    "### Build matrix C in sparse format"
   ]
  },
  {
   "cell_type": "markdown",
   "metadata": {},
   "source": [
    "The C matrix is diagonal, hence the non-negative entries can be saved in a simple dictionary."
   ]
  },
  {
   "cell_type": "code",
   "execution_count": 19,
   "metadata": {},
   "outputs": [],
   "source": [
    "def fill_C_sparse(Lvec,Mvec):\n",
    "    C = {}\n",
    "    for user in Lvec:\n",
    "        C[user] = 0\n",
    "        if Lvec[user]+Mvec[user]>0:\n",
    "            C[user] = Mvec[user]/(Lvec[user]+Mvec[user])\n",
    "    return C"
   ]
  },
  {
   "cell_type": "markdown",
   "metadata": {},
   "source": [
    "### Build vectors b and d in sparse format"
   ]
  },
  {
   "cell_type": "markdown",
   "metadata": {},
   "source": [
    "We continue by including the column vectors $b_i$ and $d_i$, for a specific label $i$."
   ]
  },
  {
   "cell_type": "code",
   "execution_count": 20,
   "metadata": {},
   "outputs": [],
   "source": [
    "def fill_bi_sparse_v2(useri,Lvec,Som,Follow):\n",
    "    b = {}\n",
    "    if useri not in Follow:\n",
    "        b[useri] = 0\n",
    "        return b\n",
    "    for user in Follow[useri]:\n",
    "        b[user] = Lvec[useri]/Som[user]\n",
    "    return b"
   ]
  },
  {
   "cell_type": "markdown",
   "metadata": {},
   "source": [
    "d has a single non-zero entry per user"
   ]
  },
  {
   "cell_type": "code",
   "execution_count": 21,
   "metadata": {},
   "outputs": [],
   "source": [
    "def fill_di_sparse_v2(useri,Lvec,Mvec):\n",
    "    d = Lvec[useri]/(Lvec[useri]+Mvec[useri])\n",
    "    return d"
   ]
  },
  {
   "cell_type": "markdown",
   "metadata": {},
   "source": [
    "## Solution"
   ]
  },
  {
   "cell_type": "markdown",
   "metadata": {},
   "source": [
    "After defining all matrices $A$, $C$ and vectors $b_i$, $d_i$ per label $i$ we can write down the main routine to find the fixed point."
   ]
  },
  {
   "cell_type": "markdown",
   "metadata": {
    "collapsed": true
   },
   "source": [
    "As mentioned at the beginning, the method is based on the fixed-point iteration:\n",
    "\n",
    "    P(i,t+1) = A.P(i,t) + b(i), \n",
    "which converges to P(i) when $t\\rightarrow\\infty$. Once the limit value is found, the Wall steady-state can be calculated\n",
    "\n",
    "    Q(i,t+1) = C.P(i,t) + d(i).\n",
    "\n",
    "In our code, we first solve the fixed-point for a specific label $i$."
   ]
  },
  {
   "cell_type": "markdown",
   "metadata": {},
   "source": [
    "**Implementation Note:** We have decided to consider a sparse realisation. We choose for each user the initialisation P(i,0) = b(i), which is sparse and has a few positive entries. We identify in the matrix A, those lines who have at least one positive entry on the columns that coincide with the non-zero elements of b(i). We further add as extra lines those that have positive entry in b(i) (due to addition) and have not been considered. In this way we reduce the number of lines and columns to be dealt with per iteration. The new vector p(i,1) will probably have more positive entries than the previous one. "
   ]
  },
  {
   "cell_type": "markdown",
   "metadata": {},
   "source": [
    "Hence the Sparse method v2 improves on the speed due to extra sparsity on bi_sparse_v2, and on the column/line multiplication.\n",
    "\n",
    "$it = 1000$ is an upper limit on the number of allowed iterations, \n",
    "\n",
    "$eps = 0.001$ is the threshold criterion for convergence of the algorithm, based on the 1-norm or the $\\infty$-norm."
   ]
  },
  {
   "cell_type": "code",
   "execution_count": 22,
   "metadata": {},
   "outputs": [],
   "source": [
    "def pi_method_sparse_v2(N,useri,A,A_trans,Lvec,Lead,Follow,Som,it = 1000, eps = .001):\n",
    "    # v2: This method resolves the fixed-point exploiting vector sparsity.\n",
    "    #\n",
    "    bi = fill_bi_sparse_v2(useri,Lvec,Som,Follow)\n",
    "    #\n",
    "    # Initialisation (the result should be independent of initialisation vector)\n",
    "    #\n",
    "    p_new = bi\n",
    "    p_old = {}\n",
    "    #\n",
    "    normdiff = 2*eps\n",
    "    #\n",
    "    t = 0\n",
    "    while (t<it) & (normdiff>eps):\n",
    "        normdiff = 0\n",
    "        p_old = p_new.copy()\n",
    "        p_new = {}\n",
    "        # We search the lines of A which contain non-zero entries coinciding with the non-zero\n",
    "        # entries of p_old.\n",
    "        mlines = set()\n",
    "        for key in p_old:\n",
    "            for tutu in A_trans[key]:\n",
    "                mlines.add(tutu)\n",
    "            #mlines = mlines.union(set(A_trans[key].keys()))\n",
    "        #print(\"p_old\",p_old)\n",
    "        for tutu in bi:\n",
    "            mlines.add(tutu)\n",
    "        #mlines = mlines.union(set(bi.keys()))\n",
    "        #print(\"mlines\",mlines)\n",
    "        for user in mlines:\n",
    "            p_new[user] = 0\n",
    "            for leader in Lead[user]:\n",
    "                if leader in p_old:\n",
    "                    p_new[user] += A[user][leader]*p_old[leader]\n",
    "            if user in bi.keys():\n",
    "                p_new[user]+=bi[user]\n",
    "            # Norm 1 criterion:\n",
    "            #normdiff += abs(p_old[user]-p_new[user])\n",
    "            # Norm INF criterion:\n",
    "            if user in p_old.keys():\n",
    "                if abs(p_old[user]-p_new[user])>normdiff:\n",
    "                    normdiff = abs(p_old[user]-p_new[user])\n",
    "            else:\n",
    "                if abs(0-p_new[user])>normdiff:\n",
    "                    normdiff = abs(0-p_new[user])\n",
    "        t += 1\n",
    "        #Tracer()()\n",
    "        #print(\"p_new\",p_new)\n",
    "    #\n",
    "    # print(\"t=\",t,\"\\n\")\n",
    "    # print(\"diff_last=\",normdiff,\"\\n\")\n",
    "    return p_new"
   ]
  },
  {
   "cell_type": "markdown",
   "metadata": {},
   "source": [
    "The following function is the general iteration to derive the solution on the Walls, Newsfeeds and the metric of Influence $\\Psi$, for all users i=1...N .  It calls the above defined function \"pi_method_sparse_v2\"."
   ]
  },
  {
   "cell_type": "code",
   "execution_count": 23,
   "metadata": {},
   "outputs": [],
   "source": [
    "def solution_sparse_v2(N,A,A_trans,C,Lvec,Mvec,Lead,Follow,Som,it = 1000, eps = .001):\n",
    "    # The fixed point solution is slow because the fixed point needs to be \n",
    "    # calculated for each label i separately.\n",
    "    #\n",
    "    # Newsfeed & Wall\n",
    "    pNews = {}\n",
    "    qWall = {}\n",
    "    # Influence metric\n",
    "    Psi = {}\n",
    "    l=0  #just a counter (could be used for parallelization)\n",
    "    for user in Lvec:\n",
    "        pNews[user] = pi_method_sparse_v2(N,user,A,A_trans,Lvec,Lead,Follow,Som)\n",
    "        #\n",
    "        di = fill_di_sparse_v2(user,Lvec,Mvec)\n",
    "        qWall[user]={}\n",
    "        Psi[user] =0\n",
    "        for userj in pNews[user]:\n",
    "            qWall[user][userj] = C[userj]*pNews[user][userj]\n",
    "            if userj==user:\n",
    "                qWall[user][userj]+=di\n",
    "            Psi[user] += qWall[user][userj]\n",
    "        if user not in pNews[user]:\n",
    "            qWall[user][user] = di\n",
    "            Psi[user] += qWall[user][user]\n",
    "        Psi[user] = (Psi[user]-qWall[user][user])/(N-1)\n",
    "        l+=1\n",
    "        #if command can be used to break the routine at l==1000 or some other number.\n",
    "        #if l == 3000:\n",
    "        #    return (pNews,qWall,Psi)\n",
    "    #\n",
    "    return (pNews,qWall,Psi)"
   ]
  },
  {
   "cell_type": "code",
   "execution_count": 24,
   "metadata": {},
   "outputs": [],
   "source": [
    "def Influence(N,Lead,Lvec,Mvec,Follow):\n",
    "    #This function solves our OSP portfolio optimization problem by the rule of thumb\n",
    "    #We find the average impression ratios and the average engagement ratios.\n",
    "    SomS = som_sparse(Lvec,Mvec,Lead)\n",
    "    AS = fill_A_sparse(Lvec,Mvec,Lead,SomS)\n",
    "    A_transS = fill_A_trans_sparse(Lvec,Mvec,Lead,SomS)    \n",
    "    CS = fill_C_sparse(Lvec,Mvec)\n",
    "    (pNewsS,qWallS,PsiS) = solution_sparse_v2(N,AS,A_transS,CS,Lvec,Mvec,Lead,Follow,SomS)\n",
    "    return [pNewsS,qWallS,PsiS]"
   ]
  },
  {
   "cell_type": "code",
   "execution_count": 25,
   "metadata": {},
   "outputs": [],
   "source": [
    "#Cost function definition\n",
    "def Ct(Follow): \n",
    "    Cs={}\n",
    "    for user in Follow:\n",
    "        Cs[user]=2*len(Follow[user])/1000\n",
    "    return Cs"
   ]
  },
  {
   "cell_type": "code",
   "execution_count": 26,
   "metadata": {},
   "outputs": [],
   "source": [
    "def pi_method_sparse_v2(N,useri,A,A_trans,Lvec,Lead,Follow,Som,it = 1000, eps = .001):\n",
    "    # v2: This method resolves the fixed-point exploiting vector sparsity.\n",
    "    #\n",
    "    bi = fill_bi_sparse_v2(useri,Lvec,Som,Follow)\n",
    "    #\n",
    "    # Initialisation (the result should be independent of initialisation vector)\n",
    "    #\n",
    "    p_new = bi\n",
    "    p_old = {}\n",
    "    #\n",
    "    normdiff = 2*eps\n",
    "    #\n",
    "    t = 0\n",
    "    while (t<it) & (normdiff>eps):\n",
    "        normdiff = 0\n",
    "        p_old = p_new.copy()\n",
    "        p_new = {}\n",
    "        # We search the lines of A which contain non-zero entries coinciding with the non-zero\n",
    "        # entries of p_old.\n",
    "        mlines = set()\n",
    "        for key in p_old:\n",
    "            for tutu in A_trans[key]:\n",
    "                mlines.add(tutu)\n",
    "            #mlines = mlines.union(set(A_trans[key].keys()))\n",
    "        #print(\"p_old\",p_old)\n",
    "        for tutu in bi:\n",
    "            mlines.add(tutu)\n",
    "        #mlines = mlines.union(set(bi.keys()))\n",
    "        #print(\"mlines\",mlines)\n",
    "        for user in mlines:\n",
    "            p_new[user] = 0\n",
    "            for leader in Lead[user]:\n",
    "                if leader in p_old:\n",
    "                    p_new[user] += A[user][leader]*p_old[leader]\n",
    "            if user in bi.keys():\n",
    "                p_new[user]+=bi[user]\n",
    "            # Norm 1 criterion:\n",
    "            #normdiff += abs(p_old[user]-p_new[user])\n",
    "            # Norm INF criterion:\n",
    "            if user in p_old.keys():\n",
    "                if abs(p_old[user]-p_new[user])>normdiff:\n",
    "                    normdiff = abs(p_old[user]-p_new[user])\n",
    "            else:\n",
    "                if abs(0-p_new[user])>normdiff:\n",
    "                    normdiff = abs(0-p_new[user])\n",
    "        t += 1\n",
    "        #Tracer()()\n",
    "        #print(\"p_new\",p_new)\n",
    "    #\n",
    "    # print(\"t=\",t,\"\\n\")\n",
    "    # print(\"diff_last=\",normdiff,\"\\n\")\n",
    "    return p_new"
   ]
  },
  {
   "cell_type": "code",
   "execution_count": 27,
   "metadata": {},
   "outputs": [],
   "source": [
    "def solution_sparse_v2(N,A,A_trans,C,Lvec,Mvec,Lead,Follow,Som,it = 1000, eps = .001):\n",
    "    # The fixed point solution is slow because the fixed point needs to be \n",
    "    # calculated for each label i separately.\n",
    "    #\n",
    "    # Newsfeed & Wall\n",
    "    pNews = {}\n",
    "    qWall = {}\n",
    "    # Influence metric\n",
    "    Psi = {}\n",
    "    l=0  #just a counter (could be used for parallelization)\n",
    "    for user in Lvec:\n",
    "        #print(l)\n",
    "        pNews[user] = pi_method_sparse_v2(N,user,A,A_trans,Lvec,Lead,Follow,Som)\n",
    "        #\n",
    "        di = fill_di_sparse_v2(user,Lvec,Mvec)\n",
    "        qWall[user]={}\n",
    "        Psi[user] =0\n",
    "        for userj in pNews[user]:\n",
    "            qWall[user][userj] = C[userj]*pNews[user][userj]\n",
    "            if userj==user:\n",
    "                qWall[user][userj]+=di\n",
    "            Psi[user] += qWall[user][userj]\n",
    "        if user not in pNews[user]:\n",
    "            qWall[user][user] = di\n",
    "            Psi[user] += qWall[user][user]\n",
    "        Psi[user] = (Psi[user]-qWall[user][user])/(N-1)\n",
    "        l+=1\n",
    "        #if command can be used to break the routine at l==1000 or some other number.\n",
    "        #if l == 3000:\n",
    "        #    return (pNews,qWall,Psi)\n",
    "    #\n",
    "    return (pNews,qWall,Psi)"
   ]
  },
  {
   "cell_type": "markdown",
   "metadata": {},
   "source": [
    "## 4. Evaluation for Twitter input dataset with Millions of users "
   ]
  },
  {
   "cell_type": "code",
   "execution_count": 28,
   "metadata": {},
   "outputs": [],
   "source": [
    "[pNewsS,qWallS,PsiS]=Influence(N,LeadGraph,Rtweet,Rrtweet,FollowGraph)"
   ]
  },
  {
   "cell_type": "code",
   "execution_count": 29,
   "metadata": {},
   "outputs": [
    {
     "name": "stdout",
     "output_type": "stream",
     "text": [
      "13551\n"
     ]
    }
   ],
   "source": [
    "Psi={}\n",
    "for i in PsiS:\n",
    "    if PsiS[i]!=0:\n",
    "        Psi[i]=PsiS[i]\n",
    "print(len(Psi))"
   ]
  },
  {
   "cell_type": "code",
   "execution_count": 30,
   "metadata": {},
   "outputs": [
    {
     "data": {
      "text/plain": [
       "0.010309175091204202"
      ]
     },
     "execution_count": 30,
     "metadata": {},
     "output_type": "execute_result"
    }
   ],
   "source": [
    "max(Psi.values())"
   ]
  },
  {
   "cell_type": "code",
   "execution_count": 31,
   "metadata": {},
   "outputs": [],
   "source": [
    "#Restrictions\n",
    "cost=Ct(FollowGraph)\n",
    "restricts={}\n",
    "for user in LeadGraph:\n",
    "    restricts[user]=1"
   ]
  },
  {
   "cell_type": "code",
   "execution_count": 32,
   "metadata": {},
   "outputs": [],
   "source": [
    "costs={}\n",
    "for user in cost:\n",
    "    costs[user]=cost[user]*Rtweet[user]"
   ]
  },
  {
   "cell_type": "code",
   "execution_count": 33,
   "metadata": {},
   "outputs": [
    {
     "data": {
      "text/plain": [
       "(array([121361.,      0.,      0.,      0.,      0.,      0.,      0.,\n",
       "         11354.,  16551.,  32355.]),\n",
       " array([1.77500000e+03, 9.76035248e+16, 1.95207050e+17, 2.92810574e+17,\n",
       "        3.90414099e+17, 4.88017624e+17, 5.85621149e+17, 6.83224674e+17,\n",
       "        7.80828199e+17, 8.78431723e+17, 9.76035248e+17]),\n",
       " <BarContainer object of 10 artists>)"
      ]
     },
     "execution_count": 33,
     "metadata": {},
     "output_type": "execute_result"
    },
    {
     "data": {
      "image/png": "[encoded data removed]",
      "text/plain": [
       "<Figure size 432x288 with 1 Axes>"
      ]
     },
     "metadata": {
      "needs_background": "light"
     },
     "output_type": "display_data"
    }
   ],
   "source": [
    "import matplotlib.pyplot as plt\n",
    "plt.hist(PsiS)"
   ]
  },
  {
   "cell_type": "code",
   "execution_count": 34,
   "metadata": {},
   "outputs": [],
   "source": [
    "Infl_aux = {r: len(FollowGraph[r]) for r in FollowGraph}"
   ]
  },
  {
   "cell_type": "code",
   "execution_count": 35,
   "metadata": {},
   "outputs": [],
   "source": [
    "Infl = {r: Infl_aux[r] for r in sorted(Infl_aux, key=Infl_aux.get, reverse=True)} #We sort by followers"
   ]
  },
  {
   "cell_type": "code",
   "execution_count": 36,
   "metadata": {
    "scrolled": true
   },
   "outputs": [
    {
     "name": "stdout",
     "output_type": "stream",
     "text": [
      "7833\n"
     ]
    }
   ],
   "source": [
    "print(max([len(FollowGraph[r]) for r in FollowGraph]))"
   ]
  },
  {
   "cell_type": "code",
   "execution_count": 37,
   "metadata": {},
   "outputs": [
    {
     "data": {
      "text/plain": [
       "(array([10327.,     0.,     0.,     0.,     0.,     0.,     0.,   724.,\n",
       "         1131.,  1793.]),\n",
       " array([1.33520000e+04, 9.75681567e+16, 1.95136313e+17, 2.92704470e+17,\n",
       "        3.90272627e+17, 4.87840783e+17, 5.85408940e+17, 6.82977097e+17,\n",
       "        7.80545254e+17, 8.78113410e+17, 9.75681567e+17]),\n",
       " <BarContainer object of 10 artists>)"
      ]
     },
     "execution_count": 37,
     "metadata": {},
     "output_type": "execute_result"
    },
    {
     "data": {
      "image/png": "[encoded data removed]",
      "text/plain": [
       "<Figure size 432x288 with 1 Axes>"
      ]
     },
     "metadata": {
      "needs_background": "light"
     },
     "output_type": "display_data"
    }
   ],
   "source": [
    "plt.hist(Infl) #We plot the histogram"
   ]
  },
  {
   "cell_type": "code",
   "execution_count": 44,
   "metadata": {},
   "outputs": [],
   "source": [
    "#Auxiliar functions that we use to evaluate our results, namely auxiliar functions to evaluate points in the real objective function\n",
    "\n",
    "def w(alps,pNewsS,k):\n",
    "    aux=0\n",
    "    for user in alps:\n",
    "        if pNewsS[k].get(user)!=None:\n",
    "            if user!=k:\n",
    "                aux=aux+alps[user]*pNewsS[k][user]\n",
    "    return aux\n",
    "\n",
    "    \n",
    "def function(x):\n",
    "    x = reshape(x,U)\n",
    "    y={}\n",
    "    alps_aux={}\n",
    "    for i in range(0,U):\n",
    "        y[i] = x[:,i]\n",
    "        for j in range(0,len(x[:,i])):\n",
    "            alps_aux[users[i]]=x[j,i]\n",
    "    ROI=0\n",
    "    for i in range(0,U):\n",
    "        ROI+=math.log((w(alps_aux,pNewsS,users[i])+1))\n",
    "    #noise = np.random.normal(0,1)\n",
    "    return -(ROI)"
   ]
  },
  {
   "cell_type": "markdown",
   "metadata": {},
   "source": [
    "### Bayesian optimization framework"
   ]
  },
  {
   "cell_type": "code",
   "execution_count": 46,
   "metadata": {},
   "outputs": [],
   "source": [
    "import GPyOpt\n",
    "import GPy\n",
    "import numpy as np"
   ]
  },
  {
   "cell_type": "code",
   "execution_count": 47,
   "metadata": {},
   "outputs": [],
   "source": [
    "def reshape(x,input_dim):\n",
    "    '''\n",
    "    Reshapes x into a matrix with input_dim columns\n",
    "    '''\n",
    "    x = np.array(x)\n",
    "    if x.size ==input_dim:\n",
    "        x = x.reshape((1,input_dim))\n",
    "    return x"
   ]
  },
  {
   "cell_type": "code",
   "execution_count": 61,
   "metadata": {},
   "outputs": [],
   "source": [
    "#OSP portfolio optimization solutions to find the real optimum and to compare\n",
    "def OSP_Fairness(Us,Budget,infl,costsv,restrictions):\n",
    "    alps=[0] * len(Us)\n",
    "    Dt={}\n",
    "    for user in range(0,len(infl)):\n",
    "        Dt[user]=infl[user]/costsv[user]\n",
    "    Sor=dict(sorted(Dt.items(), key=lambda item: item[1], reverse=True))\n",
    "    Baux=Budget\n",
    "    for iaux in Sor:\n",
    "        if Baux>0:\n",
    "            if Baux>costsv[iaux]*restrictions[iaux]:\n",
    "                if restrictions[iaux]!=0:\n",
    "                    alps[iaux]=restrictions[iaux]\n",
    "                    Baux=Baux-costsv[iaux]*restrictions[iaux]\n",
    "            else:\n",
    "                alps[iaux]=Baux/costsv[iaux]\n",
    "                Baux=0\n",
    "        else:\n",
    "            break\n",
    "    return alps"
   ]
  },
  {
   "cell_type": "code",
   "execution_count": 62,
   "metadata": {},
   "outputs": [],
   "source": [
    "def OSP_FW(v0,pNewsS,Budget,Costs,restriction,alpha,weight,it=100,eps=0.000001):\n",
    "    #Function which computes the participation rates by the Frank-Wolfe (FW) algorithm adaptation with initial point in v0 and a stopping condition in the number of total steps (at most it) and the maximum FW optimum gap to stop the algorithm (eps)\n",
    "    #We start to measure the time of our algorithm after of prior computations\n",
    "    start = time.time() \n",
    "    v_old={} #Initial\n",
    "    normdiff = 2*eps #Infinite norm\n",
    "    for user in v0:\n",
    "        v_old[user]=v0[user]\n",
    "    t = 0\n",
    "    while t<=it:\n",
    "        G=grad(pNewsS,v_old,alpha,weight)\n",
    "        [s,normdiff]=direction(G,Costs,Budget,restriction,v_old)\n",
    "        if normdiff<eps:\n",
    "            break\n",
    "        else:\n",
    "            ak=2/(t+2)\n",
    "            for user in v_old:\n",
    "                if s.get(user)!=None:\n",
    "                    v_old[user]=(1-ak)*v_old[user]+ak*s[user]\n",
    "                else:\n",
    "                    v_old[user]=(1-ak)*v_old[user]\n",
    "            for user in s:\n",
    "                if v_old.get(user)==None:\n",
    "                    v_old[user]=ak*s[user]\n",
    "            t=t+1\n",
    "    #We end to measure the time of our algorithm after of prior computations\n",
    "    end = time.time()\n",
    "    return [v_old,normdiff,end-start]"
   ]
  },
  {
   "cell_type": "code",
   "execution_count": 63,
   "metadata": {},
   "outputs": [],
   "source": [
    "def direction(G,Costs,Budget,restriction,v_old):\n",
    "    #This function solves our Algorithm 1 in the manuscript in each step of OSP_FW\n",
    "    #We find the average impression ratios and the average engagement ratios.\n",
    "    rates={}\n",
    "    for user in G:\n",
    "        if Costs.get(user)!=None:\n",
    "            rates[user]=G[user]/Costs[user]\n",
    "    alps={} #Dictionary where we store participation ratios.\n",
    "    Baux=Budget #Auxiliar variable which represents surplus budget per step.\n",
    "    iList=collections.OrderedDict(sorted(rates.items(), key=lambda x:x[1],reverse=True)) #We sort the user index by increasing rates.\n",
    "    for iaux in iList.keys():\n",
    "        if Baux>0:\n",
    "            if Baux>Costs[iaux]*restriction[iaux]:\n",
    "                if restriction[iaux]!=0:\n",
    "                    alps[iaux]=restriction[iaux]\n",
    "                    Baux=Baux-Costs[iaux]*restriction[iaux]\n",
    "            else:\n",
    "                alps[iaux]=Baux/Costs[iaux]\n",
    "                Baux=0\n",
    "    Op=0\n",
    "    for user in G:\n",
    "        if alps.get(user)!=None:\n",
    "            if v_old.get(user)!=None:\n",
    "                Op=Op+(G[user])*(alps[user]-v_old[user])\n",
    "            else:\n",
    "                Op=Op+(G[user])*(alps[user])\n",
    "        else:\n",
    "            if v_old.get(user)!=None:\n",
    "                Op=Op+(G[user])*(-v_old[user])\n",
    "    return [alps,Op]\n",
    "\n",
    "def grad(pNewsS,v_old,alpha,weight): \n",
    "    #Function which computes the gradient direction in each step of OSP_FW\n",
    "    Grad={}\n",
    "    for user1 in pNewsS:\n",
    "        Auxiliar=der_fairness(w(v_old,pNewsS,user1),alpha,weight)\n",
    "        for user2 in pNewsS[user1]:\n",
    "            if Grad.get(user2)!=None:\n",
    "                Grad[user2]=Grad[user2]+Auxiliar*pNewsS[user1][user2]\n",
    "            else:\n",
    "                Grad[user2]=Auxiliar*pNewsS[user1][user2]\n",
    "    return Grad\n",
    "\n",
    "\n",
    "def fairness(x,alpha,weight): #alpha-fairness utility functions\n",
    "    return weight*((x+1)**(1-alpha)-1)/(1-alpha)\n",
    "\n",
    "\n",
    "def der_fairness(x,alpha,weight): \n",
    "    #Auxiliar function which computes U'_j for the alpha-fairness utility functions\n",
    "    return weight*((x+1)**(-alpha))\n",
    "\n",
    "def Optimum(P,f,vec_a): \n",
    "    #Auxiliar evaluation function which computes f(\\omega^{(j)}(vec_a)) where P are the average impressions ratios\n",
    "    Omega={}\n",
    "    sum_aux2=0\n",
    "    for user in P:\n",
    "        sum_aux2=0\n",
    "        for user2 in P[user]:\n",
    "            if user2 in vec_a:\n",
    "                if user2!=user:\n",
    "                    sum_aux2=sum_aux2+vec_a[user2]*P[user][user2]\n",
    "        Omega[user]=sum_aux2\n",
    "    sum_aux=0\n",
    "    for user in Omega:\n",
    "        if user!=i:\n",
    "            sum_aux=f(Omega[user])+sum_aux\n",
    "    return [-sum_aux,Omega]"
   ]
  },
  {
   "cell_type": "markdown",
   "metadata": {},
   "source": [
    "### We run the algorithm until increase 30 variables and pick where the maximum of the optimum is reached\n"
   ]
  },
  {
   "cell_type": "code",
   "execution_count": 68,
   "metadata": {},
   "outputs": [],
   "source": [
    "def BayOpt(B, t, ip=1, max_time  = None, max_iter  = 5, tolerance = 1e-8):\n",
    "    #bud=budget, t=max number of variables, ip=initial points\n",
    "    it=1\n",
    "    Sol=[]\n",
    "    dv=it\n",
    "    Opti=[]\n",
    "    dif=0.1\n",
    "    Opt=0\n",
    "    Opti.append(0)\n",
    "    while it<t:\n",
    "        costsv=[]\n",
    "        infl=[]\n",
    "        users=[]\n",
    "        restrictions=[]\n",
    "        cont=1\n",
    "        U=it\n",
    "        def function(x):\n",
    "            x = reshape(x,U)\n",
    "            y={}\n",
    "            alps_aux={}\n",
    "            for i in range(0,U):\n",
    "                y[i] = x[:,i]\n",
    "                for j in range(0,len(x[:,i])):\n",
    "                    alps_aux[users[i]]=x[j,i]\n",
    "            ROI=0\n",
    "            for i in range(0,U):\n",
    "                ROI+=math.log((w(alps_aux,pNewsS,users[i])+1))\n",
    "            #noise = np.random.normal(0,1)\n",
    "            return -(3*B*ROI)\n",
    "        for user in Infl:\n",
    "            if cont<=U:\n",
    "                users.append(user)\n",
    "                infl.append(Infl[user])\n",
    "                costsv.append(costs[user])\n",
    "                restrictions.append(restricts[user])\n",
    "                cont=cont+1\n",
    "            else:\n",
    "                break\n",
    "        space =[{'name': 'var_'+str(i), 'type': 'continuous', 'domain': [0,1]} for i in range(0,U)]\n",
    "        string=''\n",
    "        for i in range(0,U):\n",
    "            if i!=U-1: \n",
    "                string+='x[:,'+str(i)+'] *'+str(costsv[i])+'+'\n",
    "            else: \n",
    "                string+='x[:,'+str(i)+'] *'+str(costsv[i])+str(-B)\n",
    "        constraints = [{'name': 'constr_1', 'constraint': string}]\n",
    "        feasible_region = GPyOpt.Design_space(space = space, constraints = constraints)\n",
    "        # --- CHOOSE the intial design\n",
    "        initial_design = GPyOpt.experiment_design.initial_design('random', feasible_region, ip, costsv, B)\n",
    "        # --- CHOOSE the objective\n",
    "        objective = GPyOpt.core.task.SingleObjective(function)\n",
    "        # --- CHOOSE the model type\n",
    "        model = GPyOpt.models.GPModel(exact_feval=True,optimize_restarts=10,verbose=False)\n",
    "        # --- CHOOSE the acquisition optimizer\n",
    "        aquisition_optimizer = GPyOpt.optimization.AcquisitionOptimizer(feasible_region)\n",
    "        # --- CHOOSE the type of acquisition\n",
    "        acquisition = GPyOpt.acquisitions.AcquisitionEI(model, feasible_region, optimizer=aquisition_optimizer)\n",
    "        # --- CHOOSE a collection method\n",
    "        evaluator = GPyOpt.core.evaluators.Sequential(acquisition)\n",
    "        # BO object\n",
    "        bo = GPyOpt.methods.ModularBayesianOptimization(model, feasible_region, objective, acquisition, evaluator, initial_design)\n",
    "        # Run the optimization                                                  \n",
    "        bo.run_optimization(costsv, B, max_iter = max_iter, max_time = max_time, eps = tolerance, verbosity=False) \n",
    "        #bo.plot_convergence()\n",
    "        maxi=max(Opti)\n",
    "        Opti.append(-function(bo.x_opt))\n",
    "        if Opti[it]>maxi:\n",
    "            Sol=np.round(bo.x_opt,3)\n",
    "            Opt=Opti[it]\n",
    "            dv=it\n",
    "            mod=bo\n",
    "        it+=1\n",
    "    return [Opt,Sol,dv,mod,Opti]"
   ]
  },
  {
   "cell_type": "code",
   "execution_count": 85,
   "metadata": {},
   "outputs": [],
   "source": [
    "seed(20)\n",
    "Var=30\n",
    "B=15\n",
    "Const=3*B*1.3\n",
    "Initial_Points=1\n",
    "max_iter  = 30\n",
    "Solution=BayOpt(B, Var, Initial_Points, max_iter=max_iter)"
   ]
  },
  {
   "cell_type": "markdown",
   "metadata": {},
   "source": [
    "### Case M=30"
   ]
  },
  {
   "cell_type": "code",
   "execution_count": 86,
   "metadata": {},
   "outputs": [
    {
     "data": {
      "image/png": "[encoded data removed]",
      "text/plain": [
       "<Figure size 432x288 with 1 Axes>"
      ]
     },
     "metadata": {
      "needs_background": "light"
     },
     "output_type": "display_data"
    }
   ],
   "source": [
    "plt.plot(list(range(len(Solution[4]))),Solution[4],'-o')\n",
    "plt.title('Value of the best selected bucket')\n",
    "plt.xlabel('Number of users selected in the bucket of influencers')\n",
    "plt.ylabel('Best return-of-investment')\n",
    "plt.grid()\n",
    "plt.savefig('fr30.png', dpi=300)"
   ]
  },
  {
   "cell_type": "code",
   "execution_count": 87,
   "metadata": {},
   "outputs": [
    {
     "name": "stdout",
     "output_type": "stream",
     "text": [
      "The solution vector until 30 variables has 26 variables after of 30 iterations, reach an optimum of  55.584256536503744 and is: [0.03  0.007 0.025 0.021 0.028 0.941 0.    0.    0.    0.003 0.089 0.\n",
      " 0.    0.092 0.    0.018 0.074 0.012 0.    0.125 0.098 0.011 0.    0.084\n",
      " 1.    0.002]\n"
     ]
    }
   ],
   "source": [
    "print('The solution vector until',Var,'variables has',Solution[2],'variables after of',max_iter,'iterations, reach an optimum of ',Solution[0],'and is:',Solution[1])"
   ]
  },
  {
   "cell_type": "code",
   "execution_count": 88,
   "metadata": {},
   "outputs": [
    {
     "data": {
      "image/png": "[encoded data removed]",
      "text/plain": [
       "<Figure size 432x288 with 1 Axes>"
      ]
     },
     "metadata": {
      "needs_background": "light"
     },
     "output_type": "display_data"
    },
    {
     "data": {
      "text/plain": [
       "<Figure size 432x288 with 0 Axes>"
      ]
     },
     "metadata": {},
     "output_type": "display_data"
    }
   ],
   "source": [
    "Solution[3].plot_convergence()\n",
    "plt.savefig('fs30.png', dpi=300)"
   ]
  },
  {
   "cell_type": "code",
   "execution_count": 73,
   "metadata": {},
   "outputs": [],
   "source": [
    "U=Solution[2]\n",
    "costsv=[]\n",
    "infl=[]\n",
    "users=[]\n",
    "restrictions=[]\n",
    "cont=1\n",
    "for user in Infl:\n",
    "    if cont<=U:\n",
    "        users.append(user)\n",
    "        infl.append(Infl[user])\n",
    "        costsv.append(costs[user])\n",
    "        restrictions.append(restricts[user])\n",
    "        cont=cont+1\n",
    "    else:\n",
    "        break\n",
    "Heu=OSP_Fairness(users,B,infl,costsv,restrictions)\n",
    "Cost={}\n",
    "rest={}\n",
    "Init={}\n",
    "cont=0\n",
    "for i,j in zip(users,costsv):\n",
    "    Cost[i]=j\n",
    "    rest[i]=1\n",
    "    Init[i]=Heu[cont]\n",
    "    cont+=1\n",
    "alpha=0.9999 \n",
    "weight=1\n",
    "RSol=OSP_FW(Init,pNewsS,B,Cost,rest,alpha,weight,it=30)\n",
    "Rvec=np.zeros(U)\n",
    "cont=0\n",
    "for uss in users:\n",
    "    if RSol[0].get(uss)!=None:\n",
    "        Rvec[cont]=RSol[0][uss]\n",
    "    cont+=1\n",
    "ROpti=-function(Rvec)"
   ]
  },
  {
   "cell_type": "code",
   "execution_count": 74,
   "metadata": {},
   "outputs": [
    {
     "name": "stdout",
     "output_type": "stream",
     "text": [
      "The real optimum is 58.7897930821516 with a solution vector of [0.         0.         0.         0.         0.         0.58323495\n",
      " 0.         0.         0.         0.         0.         0.18489109\n",
      " 0.         0.         0.         0.         0.         0.\n",
      " 0.         0.         0.99220676 0.         0.         1.\n",
      " 1.         0.        ] for 26 variables\n"
     ]
    }
   ],
   "source": [
    "print('The real optimum is',Const*ROpti,'with a solution vector of',Rvec,'for',U,'variables')"
   ]
  },
  {
   "cell_type": "markdown",
   "metadata": {},
   "source": [
    "### Case M<30 (M=15)"
   ]
  },
  {
   "cell_type": "code",
   "execution_count": 89,
   "metadata": {},
   "outputs": [],
   "source": [
    "seed(10)\n",
    "Var=30\n",
    "B=15\n",
    "Initial_Points=1\n",
    "max_iter  = 15\n",
    "Solution=BayOpt(B, Var, Initial_Points, max_iter=max_iter)"
   ]
  },
  {
   "cell_type": "code",
   "execution_count": 90,
   "metadata": {},
   "outputs": [
    {
     "data": {
      "image/png": "[encoded data removed]",
      "text/plain": [
       "<Figure size 432x288 with 1 Axes>"
      ]
     },
     "metadata": {
      "needs_background": "light"
     },
     "output_type": "display_data"
    }
   ],
   "source": [
    "plt.plot(list(range(len(Solution[4]))),Solution[4],'-o')\n",
    "plt.title('Value of the best selected bucket')\n",
    "plt.xlabel('Number of users selected in the bucket of influencers')\n",
    "plt.ylabel('Best return-of-investment')\n",
    "plt.grid()\n",
    "plt.savefig('fr15.png', dpi=300)"
   ]
  },
  {
   "cell_type": "code",
   "execution_count": 91,
   "metadata": {},
   "outputs": [
    {
     "name": "stdout",
     "output_type": "stream",
     "text": [
      "The solution vector until 30 variables has 25 variables after of 15 iterations, reach an optimum of  54.08314855714174 and is: [0.    0.019 0.308 0.026 0.061 0.702 0.    0.001 0.01  0.    0.028 0.178\n",
      " 0.003 0.003 0.033 0.    0.005 0.011 0.012 0.    0.    0.006 0.032 0.032\n",
      " 1.   ]\n"
     ]
    }
   ],
   "source": [
    "print('The solution vector until',Var,'variables has',Solution[2],'variables after of',max_iter,'iterations, reach an optimum of ',Solution[0],'and is:',Solution[1])"
   ]
  },
  {
   "cell_type": "code",
   "execution_count": 92,
   "metadata": {},
   "outputs": [
    {
     "data": {
      "image/png": "[encoded data removed]",
      "text/plain": [
       "<Figure size 432x288 with 1 Axes>"
      ]
     },
     "metadata": {
      "needs_background": "light"
     },
     "output_type": "display_data"
    },
    {
     "data": {
      "text/plain": [
       "<Figure size 432x288 with 0 Axes>"
      ]
     },
     "metadata": {},
     "output_type": "display_data"
    }
   ],
   "source": [
    "Solution[3].plot_convergence()\n",
    "plt.savefig('fs15.png', dpi=300)"
   ]
  },
  {
   "cell_type": "markdown",
   "metadata": {},
   "source": [
    "### Case M<<30 (M=5)"
   ]
  },
  {
   "cell_type": "code",
   "execution_count": 93,
   "metadata": {},
   "outputs": [],
   "source": [
    "seed(10)\n",
    "Var=30\n",
    "B=15\n",
    "Initial_Points=1\n",
    "max_iter  = 5\n",
    "Solution=BayOpt(B, Var, Initial_Points, max_iter=max_iter)"
   ]
  },
  {
   "cell_type": "code",
   "execution_count": 94,
   "metadata": {},
   "outputs": [
    {
     "data": {
      "image/png": "[encoded data removed]",
      "text/plain": [
       "<Figure size 432x288 with 1 Axes>"
      ]
     },
     "metadata": {
      "needs_background": "light"
     },
     "output_type": "display_data"
    }
   ],
   "source": [
    "plt.plot(list(range(len(Solution[4]))),Solution[4],'-o')\n",
    "plt.title('Value of the best selected bucket')\n",
    "plt.xlabel('Number of users selected in the bucket of influencers')\n",
    "plt.ylabel('Best return-of-investment')\n",
    "plt.grid()\n",
    "plt.savefig('fr5.png', dpi=300)"
   ]
  },
  {
   "cell_type": "code",
   "execution_count": 95,
   "metadata": {},
   "outputs": [
    {
     "name": "stdout",
     "output_type": "stream",
     "text": [
      "The solution vector until 30 variables has 18 variables after of 5 iterations, reach an optimum of  52.832243695614785 and is: [0.012 0.006 0.666 0.008 0.028 1.    0.009 0.037 0.005 0.006 0.129 0.002\n",
      " 0.01  0.205 0.03  0.087 0.036 0.008]\n"
     ]
    }
   ],
   "source": [
    "print('The solution vector until',Var,'variables has',Solution[2],'variables after of',max_iter,'iterations, reach an optimum of ',Solution[0],'and is:',Solution[1])"
   ]
  },
  {
   "cell_type": "code",
   "execution_count": 96,
   "metadata": {},
   "outputs": [
    {
     "data": {
      "image/png": "[encoded data removed]",
      "text/plain": [
       "<Figure size 432x288 with 1 Axes>"
      ]
     },
     "metadata": {
      "needs_background": "light"
     },
     "output_type": "display_data"
    },
    {
     "data": {
      "text/plain": [
       "<Figure size 432x288 with 0 Axes>"
      ]
     },
     "metadata": {},
     "output_type": "display_data"
    }
   ],
   "source": [
    "Solution[3].plot_convergence()\n",
    "plt.savefig('fs5.png', dpi=300)"
   ]
  },
  {
   "cell_type": "markdown",
   "metadata": {},
   "source": [
    "The plots above illustrate in a measure of influence of followers with a long, medium and short horizon respectively, how the value of the selected bucket of influencers varies as we increase the cardinality in the bucket of influencers. Once the best cardinality of the bucket of influencers has been found, moreover it shows the value of the best selected sample over the horizon fixed by the advertiser (i.e. in each change of the participation rates). \n",
    "\n",
    "\n",
    "Let us observe that on the previous figures we have the behaviour mentioned. Specifically, as we add users to the sequential budgeted portfolio optimization problem [BPO-BO] the optimum found by the boosted Algorithm with the above Lemma improves until a certain size of users in the network $\\hat{N}$ is reached. Such $\\hat{N}$ is $26$, $25$ and $18$ in the case of a measure of influence of followers with a long, medium and short horizon respectively. Once past such $\\hat{N}$, and because the size of the feasible set increases, we tend to require longer horizons $M$ to reach a better optimum, and so we experience the curse of dimensionality. The above can be visualised with drops in the value of the selected bucket of influencers for different cardinalities once such $\\hat{N}$ is exceeded. Hencer shorter horizons require fewer users until the curse of dimensionality begins to take effect.\n",
    "\n",
    "Once the best cardinality of the bucket of influencers has been found, we obtain the below table, which, shows the optimums found for both measures of influence and different horizons and the real optimum found by the budgeted portfolio optimization problem [BPO-G]. Note that both methods are realistically close to the actual optimum given by [BPO-G], therefore the sequential budgeted portfolio optimization problem [BPO-BO] by the boosted Algorithm and Lemma correctly models reality. Besides, we observe that a measure of influence of followers with a short horizon is closer to the real optimum than a measure of influence of long horizon. Thus, regardless the horizon, we conclude that the measure of influence of followers best captures the sequential budgeted portfolio optimization problem [BPO-BO].\n",
    "\n",
    "Finally and interestingly, we observe from below table that, regardless measure of influence, we have a property of diminishing returns in the optimums as the horizons increase. We attribute the above characteristic to the property of diminishing returns on the return-of-investment $U$.\n",
    "\n",
    "| Measure of influence \\& Horizon | Optimum |\n",
    "| :- | :-: |\n",
    "| Real optimum | 58.789 | \n",
    "| Followers with long horizon | 55.584 | \n",
    "| Followers with medium horizon | 54.083 |\n",
    "| Followers with short horizon | 52.832 | \n",
    "| Impressions with long horizon | 52.557 | \n",
    "| Impressions with medium horizon | 47.895 |\n",
    "| Impressions with short horizon | 42.097 | "
   ]
  }
 ],
 "metadata": {
  "kernelspec": {
   "display_name": "Python 3 (ipykernel)",
   "language": "python",
   "name": "python3"
  },
  "language_info": {
   "codemirror_mode": {
    "name": "ipython",
    "version": 3
   },
   "file_extension": ".py",
   "mimetype": "text/x-python",
   "name": "python",
   "nbconvert_exporter": "python",
   "pygments_lexer": "ipython3",
   "version": "3.9.12"
  }
 },
 "nbformat": 4,
 "nbformat_minor": 2
}
